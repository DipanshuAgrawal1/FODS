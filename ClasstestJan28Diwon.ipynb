{
  "nbformat": 4,
  "nbformat_minor": 0,
  "metadata": {
    "colab": {
      "name": "ClasstestJan28Diwon",
      "provenance": []
    },
    "kernelspec": {
      "name": "python3",
      "display_name": "Python 3"
    },
    "language_info": {
      "name": "python"
    }
  },
  "cells": [
    {
      "cell_type": "markdown",
      "source": [
        "1 \n",
        "Create a Bus child class that inherits from the Vehicle class. The default fare charge of any vehicle is seating capacity * 100. If Vehicle is Bus instance, we need to add an extra 10% on full fare as a maintenance charge. So total fare for bus instance will become the final amount = total fare + 10% of the total fare."
      ],
      "metadata": {
        "id": "Eq0O77J4SOnR"
      }
    },
    {
      "cell_type": "code",
      "execution_count": 2,
      "metadata": {
        "colab": {
          "base_uri": "https://localhost:8080/"
        },
        "id": "1vHXFfgFSJ-0",
        "outputId": "ed1843cb-140e-4492-b70b-5fe5c5430be1"
      },
      "outputs": [
        {
          "output_type": "stream",
          "name": "stdout",
          "text": [
            "Total Bus fare is: 1980.0\n"
          ]
        }
      ],
      "source": [
        "class Vehicle:\n",
        "    def __init__(self,distance, passengers):\n",
        "        self.distance = distance\n",
        "        self.passengers = passengers\n",
        "\n",
        "    def fare(self):\n",
        "        return self.passengers * 100\n",
        "\n",
        "class Bus(Vehicle):\n",
        "    \n",
        "    def fare(self):\n",
        "        fare_car = self.passengers * 100 \n",
        "        total_fare = fare_car + (0.1 *fare_car)\n",
        "        return total_fare\n",
        "\n",
        "Sajha_bus = Bus(8, 18)\n",
        "print(\"Total Bus fare is:\", Sajha_bus.fare())"
      ]
    },
    {
      "cell_type": "markdown",
      "source": [
        "2\n",
        "Write a Python program to read a given CSV file as a list."
      ],
      "metadata": {
        "id": "WnlVJ1wwUgYF"
      }
    },
    {
      "cell_type": "code",
      "source": [
        "import csv\n",
        "with open('sigdeldiwon.csv') as diw:\n",
        "   sigdel = csv.reader(diw)\n",
        "   data_list = list(sigdel)\n",
        "print(data_list)"
      ],
      "metadata": {
        "id": "6vMSaUyIXdS3"
      },
      "execution_count": null,
      "outputs": []
    },
    {
      "cell_type": "markdown",
      "source": [
        "3\n",
        "Write a Python program to display first 5 rows from COVID-19 dataset. Also print the dataset information and check the missing values."
      ],
      "metadata": {
        "id": "0aQ_Doa2VVbT"
      }
    },
    {
      "cell_type": "code",
      "source": [
        "import pandas as pd\n",
        "covid_19= pd.read_csv('https://raw.githubusercontent.com/CSSEGISandData/COVID-19/master/csse_covid_19_data/csse_covid_19_daily_reports/03-17-2020.csv')\n",
        "print(covid_19)\n",
        "print(\"\\nDataset information:\")\n",
        "print(covid_19.info())\n",
        "print(\"\\nMissing data information:\")\n",
        "print(covid_19.isna().sum())"
      ],
      "metadata": {
        "colab": {
          "base_uri": "https://localhost:8080/"
        },
        "id": "kfNfICbsWXVZ",
        "outputId": "4ab82598-46e5-46a4-a6c6-a858308ee710"
      },
      "execution_count": 4,
      "outputs": [
        {
          "output_type": "stream",
          "name": "stdout",
          "text": [
            "        Province/State Country/Region  ... Latitude  Longitude\n",
            "0                Hubei          China  ...  30.9756   112.2707\n",
            "1                  NaN          Italy  ...  41.8719    12.5674\n",
            "2                  NaN           Iran  ...  32.4279    53.6880\n",
            "3                  NaN          Spain  ...  40.4637    -3.7492\n",
            "4                  NaN        Germany  ...  51.1657    10.4515\n",
            "..                 ...            ...  ...      ...        ...\n",
            "293  W.P. Kuala Lumpur       Malaysia  ...   3.1390   101.6869\n",
            "294        W.P. Labuan       Malaysia  ...   5.2831   115.2308\n",
            "295     W.P. Putrajaya       Malaysia  ...   2.9264   101.6964\n",
            "296            Unknown       Malaysia  ...      NaN        NaN\n",
            "297                NaN          Tonga  ... -21.1790  -175.1982\n",
            "\n",
            "[298 rows x 8 columns]\n",
            "\n",
            "Dataset information:\n",
            "<class 'pandas.core.frame.DataFrame'>\n",
            "RangeIndex: 298 entries, 0 to 297\n",
            "Data columns (total 8 columns):\n",
            " #   Column          Non-Null Count  Dtype  \n",
            "---  ------          --------------  -----  \n",
            " 0   Province/State  145 non-null    object \n",
            " 1   Country/Region  298 non-null    object \n",
            " 2   Last Update     298 non-null    object \n",
            " 3   Confirmed       298 non-null    int64  \n",
            " 4   Deaths          298 non-null    int64  \n",
            " 5   Recovered       298 non-null    int64  \n",
            " 6   Latitude        296 non-null    float64\n",
            " 7   Longitude       296 non-null    float64\n",
            "dtypes: float64(2), int64(3), object(3)\n",
            "memory usage: 18.8+ KB\n",
            "None\n",
            "\n",
            "Missing data information:\n",
            "Province/State    153\n",
            "Country/Region      0\n",
            "Last Update         0\n",
            "Confirmed           0\n",
            "Deaths              0\n",
            "Recovered           0\n",
            "Latitude            2\n",
            "Longitude           2\n",
            "dtype: int64\n"
          ]
        }
      ]
    },
    {
      "cell_type": "markdown",
      "source": [
        "4\n",
        "Write a numpy program to create an element-wise comparison (greater, greater equal, less and less equal) of two given arrays."
      ],
      "metadata": {
        "id": "4wJyD_Q7W3rp"
      }
    },
    {
      "cell_type": "code",
      "source": [
        "import numpy as np\n",
        "x = np.array([19, 21])\n",
        "y = np.array([22, 76])\n",
        "print(\"Original numbers:\")\n",
        "print(x)\n",
        "print(y)\n",
        "print(\"Comparison - greater\")\n",
        "print(np.greater(x, y))\n",
        "print(\"Comparison - greater_equal\")\n",
        "print(np.greater_equal(x, y))\n",
        "print(\"Comparison - less\")\n",
        "print(np.less(x, y))\n",
        "print(\"Comparison - less_equal\")\n",
        "print(np.less_equal(x, y))"
      ],
      "metadata": {
        "colab": {
          "base_uri": "https://localhost:8080/"
        },
        "id": "WGv5RhTHW5fT",
        "outputId": "47e0c5a7-6bd4-4513-9586-38e214bfd7e6"
      },
      "execution_count": 6,
      "outputs": [
        {
          "output_type": "stream",
          "name": "stdout",
          "text": [
            "Original numbers:\n",
            "[19 21]\n",
            "[22 76]\n",
            "Comparison - greater\n",
            "[False False]\n",
            "Comparison - greater_equal\n",
            "[False False]\n",
            "Comparison - less\n",
            "[ True  True]\n",
            "Comparison - less_equal\n",
            "[ True  True]\n"
          ]
        }
      ]
    },
    {
      "cell_type": "markdown",
      "source": [
        "5 \n",
        "Write a Python program to draw a line with suitable label in the x axis, y axis and a title."
      ],
      "metadata": {
        "id": "As2IcRnoXo1X"
      }
    },
    {
      "cell_type": "code",
      "source": [
        "import matplotlib.pyplot as plt\n",
        "x = [7.37,7.46,7.54,7.63,7.71,7.79]\n",
        "y = [2015,2016,2017,2018,2019,2020]\n",
        "plt.plot(x, y)\n",
        "plt.xlabel('World Population in Billions')\n",
        "plt.ylabel('Y e a r')\n",
        "plt.title('World Pupoluation From 2015-20 In Billions')\n",
        "plt.show()"
      ],
      "metadata": {
        "colab": {
          "base_uri": "https://localhost:8080/",
          "height": 295
        },
        "id": "CpqGw8M4XsGe",
        "outputId": "705c89b0-82b6-43e0-f986-ccca493d2318"
      },
      "execution_count": 11,
      "outputs": [
        {
          "output_type": "display_data",
          "data": {
            "image/png": "[encoded data removed]",
            "text/plain": [
              "<Figure size 432x288 with 1 Axes>"
            ]
          },
          "metadata": {
            "needs_background": "light"
          }
        }
      ]
    }
  ]
}