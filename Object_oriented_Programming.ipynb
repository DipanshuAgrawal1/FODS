{
  "cells": [
    {
      "cell_type": "code",
      "execution_count": null,
      "id": "9834a099",
      "metadata": {
        "colab": {
          "base_uri": "https://localhost:8080/"
        },
        "id": "9834a099",
        "outputId": "5f71df2e-a49d-4539-8a4f-295d3a77e054"
      },
      "outputs": [
        {
          "output_type": "stream",
          "name": "stdout",
          "text": [
            "Name: satendra /Sex: male /Profession: Programmer\n",
            "satendra working as a Programmer\n"
          ]
        }
      ],
      "source": [
        "class Person:\n",
        "    def __init__(self, name, sex, profession):\n",
        "        self.name = name\n",
        "        self.sex = sex\n",
        "        self.profession = profession\n",
        "    def show(self):\n",
        "        print('Name:', self.name, '/Sex:', self.sex, '/Profession:', self.profession)\n",
        "\n",
        "    def work(self):\n",
        "        print(self.name, 'working as a', self.profession)\n",
        "\n",
        "satendra = Person('satendra', 'male', 'Programmer')\n",
        "\n",
        "satendra.show()\n",
        "satendra.work()"
      ]
    },
    {
      "cell_type": "code",
      "execution_count": null,
      "id": "4af0a9b1",
      "metadata": {
        "id": "4af0a9b1",
        "outputId": "97e142b9-df46-4831-c47b-03da9190dc26"
      },
      "outputs": [
        {
          "name": "stdout",
          "output_type": "stream",
          "text": [
            "Student: satendra /Age: 20\n",
            "College name: TBC College\n",
            "Student: satendra 20\n",
            "School name: TBC College\n"
          ]
        }
      ],
      "source": [
        "class Student:\n",
        "    school_name = 'TBC College'\n",
        "\n",
        "    def __init__(self, name, age):\n",
        "        \n",
        "        self.name = name\n",
        "        self.age = age\n",
        "\n",
        "s1 = Student(\"satendra\", 20)\n",
        "\n",
        "print('Student:', s1.name,'/Age:', s1.age)\n",
        "print('College name:', Student.school_name)\n",
        "\n",
        "\n",
        "s1.name = 'satendra'\n",
        "s1.age = 20\n",
        "print('Student:', s1.name, s1.age)\n",
        "\n",
        "\n",
        "Student.school_name = 'TBC College'\n",
        "print('School name:', Student.school_name)"
      ]
    },
    {
      "cell_type": "code",
      "execution_count": null,
      "id": "79817fed",
      "metadata": {
        "colab": {
          "base_uri": "https://localhost:8080/"
        },
        "id": "79817fed",
        "outputId": "811bd44b-fdc9-4ad9-d7d2-44cb0016ed80"
      },
      "outputs": [
        {
          "output_type": "stream",
          "name": "stdout",
          "text": [
            "Fruit is plum and Color is green\n"
          ]
        }
      ],
      "source": [
        "class Fruit:\n",
        "    def __init__(self, name, color):\n",
        "        self.name = name\n",
        "        self.color = color\n",
        "\n",
        "    def show(self):\n",
        "        print(\"Fruit is\", self.name, \"and Color is\", self.color)\n",
        "obj = Fruit(\"Mango\", \"green\")\n",
        "obj.name = \"plum\"\n",
        "obj.show()"
      ]
    },
    {
      "cell_type": "code",
      "execution_count": null,
      "id": "d109f249",
      "metadata": {
        "id": "d109f249",
        "outputId": "299fda64-e72b-4310-d4b2-135c45f1b6ae"
      },
      "outputs": [
        {
          "name": "stdout",
          "output_type": "stream",
          "text": [
            "Inside Vehicle class\n",
            "Inside Car class\n"
          ]
        }
      ],
      "source": [
        "class Vehicle:\n",
        "    def Vehicle_info(self):\n",
        "        print('Inside Vehicle class')\n",
        "\n",
        "class Car(Vehicle):\n",
        "    def car_info(self):\n",
        "        print('Inside Car class')\n",
        "\n",
        "car = Car()\n",
        "car.Vehicle_info()\n",
        "car.car_info()"
      ]
    },
    {
      "cell_type": "code",
      "execution_count": 7,
      "id": "8521c4eb",
      "metadata": {
        "id": "8521c4eb",
        "outputId": "c5c7ba98-1e2a-48cd-aebb-7cf85a2326ba",
        "colab": {
          "base_uri": "https://localhost:8080/"
        }
      },
      "outputs": [
        {
          "output_type": "stream",
          "name": "stdout",
          "text": [
            "Inside Person class\n",
            "Name: satendra Age: 20\n",
            "Inside Company class\n",
            "Name: Apple location: Atlanta\n",
            "Inside Employee class\n",
            "Salary: 140000 Skill: Machine Learning\n"
          ]
        }
      ],
      "source": [
        "# Parent class 1\n",
        "class Person:\n",
        "    def person_info(self, name, age):\n",
        "        print('Inside Person class')\n",
        "        print('Name:', name, 'Age:', age)\n",
        "\n",
        "# Parent class 2\n",
        "class Company:\n",
        "    def company_info(self, company_name, location):\n",
        "        print('Inside Company class')\n",
        "        print('Name:', company_name, 'location:', location)\n",
        "\n",
        "# Child class\n",
        "class Employee(Person, Company):\n",
        "    def Employee_info(self, salary, skill):\n",
        "        print('Inside Employee class')\n",
        "        print('Salary:', salary, 'Skill:', skill)\n",
        "\n",
        "# Create object of Employee\n",
        "emp = Employee()\n",
        "\n",
        "# access data\n",
        "emp.person_info('satendra', 20)\n",
        "emp.company_info('Apple', 'Atlanta')\n",
        "emp.Employee_info(140000, 'Machine Learning')"
      ]
    },
    {
      "cell_type": "code",
      "execution_count": null,
      "id": "89df495e",
      "metadata": {
        "id": "89df495e",
        "outputId": "abded93e-a54d-4f3e-9b86-039617772cee"
      },
      "outputs": [
        {
          "name": "stdout",
          "output_type": "stream",
          "text": [
            "Inside Vehicle class\n",
            "Inside Car class\n",
            "Inside SportsCar class\n"
          ]
        }
      ],
      "source": [
        "class Vehicle:\n",
        "    def Vehicle_info(self):\n",
        "        print('Inside Vehicle class')\n",
        "\n",
        "# Child class\n",
        "class Car(Vehicle):\n",
        "    def car_info(self):\n",
        "        print('Inside Car class')\n",
        "\n",
        "# Child class\n",
        "class SportsCar(Car):\n",
        "    def sports_car_info(self):\n",
        "        print('Inside SportsCar class')\n",
        "\n",
        "# Create object of SportsCar\n",
        "s_car = SportsCar()\n",
        "\n",
        "# access Vehicle's and Car info using SportsCar object\n",
        "s_car.Vehicle_info()\n",
        "s_car.car_info()\n",
        "s_car.sports_car_info()"
      ]
    },
    {
      "cell_type": "code",
      "execution_count": 6,
      "id": "dd6a06e8",
      "metadata": {
        "id": "dd6a06e8",
        "outputId": "38b97006-46d6-4734-a70d-106921015dd7",
        "colab": {
          "base_uri": "https://localhost:8080/"
        }
      },
      "outputs": [
        {
          "output_type": "stream",
          "name": "stdout",
          "text": [
            "Inside Person class\n",
            "Name: satendra Age: 20\n",
            "Inside Company class\n",
            "Name: Apple location: Atlanta\n",
            "Inside Employee class\n",
            "Salary: 140000 Skill: Machine Learning\n"
          ]
        }
      ],
      "source": [
        "#Multiple Inheritance\n",
        "# Parent class 1\n",
        "class Person:\n",
        "    def person_info(self, name, age):\n",
        "        print('Inside Person class')\n",
        "        print('Name:', name, 'Age:', age)\n",
        "\n",
        "# Parent class 2\n",
        "class Company:\n",
        "    def company_info(self, company_name, location):\n",
        "        print('Inside Company class')\n",
        "        print('Name:', company_name, 'location:', location)\n",
        "\n",
        "# Child class\n",
        "class Employee(Person, Company):\n",
        "    def Employee_info(self, salary, skill):\n",
        "        print('Inside Employee class')\n",
        "        print('Salary:', salary, 'Skill:', skill)\n",
        "\n",
        "# Create object of Employee\n",
        "emp = Employee()\n",
        "\n",
        "# access data\n",
        "emp.person_info('satendra', 20)\n",
        "emp.company_info('Apple', 'Atlanta')\n",
        "emp.Employee_info(140000, 'Machine Learning')"
      ]
    },
    {
      "cell_type": "code",
      "execution_count": null,
      "id": "d22cada1",
      "metadata": {
        "id": "d22cada1",
        "outputId": "c1898d5e-3938-441a-e710-d939d17426ad"
      },
      "outputs": [
        {
          "name": "stdout",
          "output_type": "stream",
          "text": [
            "Inside Vehicle class\n",
            "Inside Car class\n",
            "Inside SportsCar class\n"
          ]
        }
      ],
      "source": [
        "# Base class\n",
        "class Vehicle:\n",
        "    def Vehicle_info(self):\n",
        "        print('Inside Vehicle class')\n",
        "\n",
        "# Child class\n",
        "class Car(Vehicle):\n",
        "    def car_info(self):\n",
        "        print('Inside Car class')\n",
        "\n",
        "# Child class\n",
        "class SportsCar(Car):\n",
        "    def sports_car_info(self):\n",
        "        print('Inside SportsCar class')\n",
        "\n",
        "# Create object of SportsCar\n",
        "s_car = SportsCar()\n",
        "\n",
        "# access Vehicle's and Car info using SportsCar object\n",
        "s_car.Vehicle_info()\n",
        "s_car.car_info()\n",
        "s_car.sports_car_info()"
      ]
    },
    {
      "cell_type": "code",
      "execution_count": null,
      "id": "f7b4d381",
      "metadata": {
        "id": "f7b4d381",
        "outputId": "c6e43bbd-29b5-4fbc-b50c-b4649c017488"
      },
      "outputs": [
        {
          "data": {
            "text/plain": [
              "50000"
            ]
          },
          "execution_count": 33,
          "metadata": {},
          "output_type": "execute_result"
        }
      ],
      "source": [
        "class Car:\n",
        "        base_price=50000\n",
        "        \n",
        "        @classmethod\n",
        "        def changebp(clp,bp):\n",
        "            clp.base_price=bp\n",
        "Car.changebp(50000)\n",
        "Car.base_price"
      ]
    },
    {
      "cell_type": "code",
      "execution_count": null,
      "id": "7b195538",
      "metadata": {
        "id": "7b195538",
        "outputId": "10071092-b5ef-4496-e980-80f26fb1f174"
      },
      "outputs": [
        {
          "name": "stdout",
          "output_type": "stream",
          "text": [
            "Initializing Programmer...\n",
            "\n",
            "I am programming\n",
            "I am an Employee\n",
            "I am a Progarmmer so Im programming\n"
          ]
        }
      ],
      "source": [
        "class Person:\n",
        "    country = \"Nepal\"\n",
        "\n",
        "    def __init__(self):\n",
        "        print(\"Initializing Person...\\n\")\n",
        "\n",
        "    def Employed(self):\n",
        "        print(\"I am programming\")\n",
        "\n",
        "class Employee(Person):\n",
        "    company = \"Xiaomi\"\n",
        "\n",
        "    def __init__(self):\n",
        "        super().__init__()\n",
        "        print(\"Initializing Employee...\\n\")\n",
        "\n",
        "    def getSalary(self):\n",
        "        print(f\"Salary is {self.salary}\")\n",
        "    \n",
        "    def Employed(self):\n",
        "        super().Employed()\n",
        "        print(\"I am an Employee\")\n",
        "\n",
        "class Programmer(Employee):\n",
        "    company = \"Skillshare\"\n",
        "\n",
        "    def __init__(self):\n",
        "       \n",
        "        print(\"Initializing Programmer...\\n\")\n",
        "\n",
        "    def getSalary(self):\n",
        "        print(f\"give salary to programmers\")\n",
        "    \n",
        "    def Employed(self):\n",
        "        super().Employed()\n",
        "        print(\"I am a Progarmmer so Im programming\")\n",
        "\n",
        "pr = Programmer()\n",
        "pr.Employed() \n"
      ]
    },
    {
      "cell_type": "code",
      "execution_count": null,
      "id": "87c04191",
      "metadata": {
        "id": "87c04191"
      },
      "outputs": [],
      "source": [
        ""
      ]
    },
    {
      "cell_type": "code",
      "execution_count": null,
      "id": "cb8cbd85",
      "metadata": {
        "id": "cb8cbd85"
      },
      "outputs": [],
      "source": [
        ""
      ]
    }
  ],
  "metadata": {
    "kernelspec": {
      "display_name": "Python 3 (ipykernel)",
      "language": "python",
      "name": "python3"
    },
    "language_info": {
      "codemirror_mode": {
        "name": "ipython",
        "version": 3
      },
      "file_extension": ".py",
      "mimetype": "text/x-python",
      "name": "python",
      "nbconvert_exporter": "python",
      "pygments_lexer": "ipython3",
      "version": "3.9.7"
    },
    "colab": {
      "name": "Object oriented Programming.ipynb",
      "provenance": [],
      "collapsed_sections": []
    }
  },
  "nbformat": 4,
  "nbformat_minor": 5
}