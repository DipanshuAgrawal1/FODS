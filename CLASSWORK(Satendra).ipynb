{
  "cells": [
    {
      "cell_type": "code",
      "execution_count": 1,
      "id": "53882077",
      "metadata": {
        "colab": {
          "base_uri": "https://localhost:8080/"
        },
        "id": "53882077",
        "outputId": "dfed6cbb-97e4-4af8-a762-cc74bed94c3b"
      },
      "outputs": [
        {
          "output_type": "stream",
          "name": "stdout",
          "text": [
            "Name: Pkka Lundmark\n",
            "Position: 2nd Revenue: year 2020 = 200.6 billion USD\n",
            "Name: Tony Chen\n",
            "Position: 1st Revenue year 2020 = $274.3 billion USD\n"
          ]
        }
      ],
      "source": [
        "class Nokia:\n",
        "    def nokia(self,name):\n",
        "        print('Name:',name)\n",
        "#parent 2\n",
        "class Oppo:\n",
        "    def oppo(self,name):\n",
        "        print('Name:',name)\n",
        "#child 1       \n",
        "class Market(Nokia):\n",
        "    def Market_info(nokia,position,revenue):\n",
        "        print('Position:',position,'Revenue:',revenue)\n",
        "#child 2\n",
        "class Market2(Oppo):\n",
        "    def MarketII_info(oppo,position,revenue):\n",
        "        print('Position:',position,'Revenue',revenue)\n",
        "        \n",
        "m=Market()\n",
        "m.nokia('Pkka Lundmark')\n",
        "m.Market_info('2nd','year 2020 = 200.6 billion USD')\n",
        "\n",
        "m2=Market2()\n",
        "m2.oppo('Tony Chen')\n",
        "m2.MarketII_info('1st','year 2020 = $274.3 billion USD')"
      ]
    },
    {
      "cell_type": "code",
      "execution_count": null,
      "id": "f7991577",
      "metadata": {
        "id": "f7991577"
      },
      "outputs": [],
      "source": [
        "class BankAccount:\n",
        "    def __init__(self,amount):\n",
        "        self.__balance=amount\n",
        "    def deposit(self,amount):\n",
        "        self.__balance+=amount\n",
        "    def withdraw(self,amount):\n",
        "        if self.__balance>=amount:\n",
        "            self.__balance=amount\n",
        "        else:\n",
        "            print(\"insufficient balance\")\n",
        "        def get_balance(self):\n",
        "            return self__balance\n",
        "            "
      ]
    },
    {
      "cell_type": "code",
      "execution_count": null,
      "id": "b1545988",
      "metadata": {
        "id": "b1545988",
        "outputId": "9ccfe505-332b-458a-9315-78a142734f20"
      },
      "outputs": [
        {
          "name": "stdout",
          "output_type": "stream",
          "text": [
            "enter the initial amount to open your account10000000\n"
          ]
        }
      ],
      "source": [
        "amount=int(input(\"enter the initial amount to open your account\"))\n",
        "account=BankAccount(amount)"
      ]
    },
    {
      "cell_type": "code",
      "execution_count": null,
      "id": "6a2f2c98",
      "metadata": {
        "id": "6a2f2c98"
      },
      "outputs": [],
      "source": [
        ""
      ]
    },
    {
      "cell_type": "code",
      "execution_count": null,
      "id": "f3383eb3",
      "metadata": {
        "id": "f3383eb3"
      },
      "outputs": [],
      "source": [
        "#arko\n",
        "\n",
        "class Book:\n",
        "    def __init__(self,isbn,name,price):\n",
        "        self.__isbn=isbn\n",
        "        self.__name=name\n",
        "        self.__price=price\n",
        "    def set_isbn(self,isbn):\n",
        "        self.__isbn=isbn\n",
        "    def set_name(self,name):\n",
        "        self.__name=name\n",
        "    def set_price(self,price):\n",
        "        self.__price=price\n",
        "    def get_isbn(self):\n",
        "        return self.__isbn\n",
        "    def gey_name(self):\n",
        "        return self.__name\n",
        "    def get_price(self):\n",
        "        return self.__price\n",
        "    def __str__(self):\n",
        "        return \"ISBN:\" + str(self.__isbn)+\",Name:\"+self.__name + \",price:\"+str(self.__price)"
      ]
    },
    {
      "cell_type": "code",
      "execution_count": null,
      "id": "e8707e03",
      "metadata": {
        "id": "e8707e03"
      },
      "outputs": [],
      "source": [
        ""
      ]
    },
    {
      "cell_type": "code",
      "execution_count": null,
      "id": "73968015",
      "metadata": {
        "id": "73968015"
      },
      "outputs": [],
      "source": [
        ""
      ]
    }
  ],
  "metadata": {
    "kernelspec": {
      "display_name": "Python 3 (ipykernel)",
      "language": "python",
      "name": "python3"
    },
    "language_info": {
      "codemirror_mode": {
        "name": "ipython",
        "version": 3
      },
      "file_extension": ".py",
      "mimetype": "text/x-python",
      "name": "python",
      "nbconvert_exporter": "python",
      "pygments_lexer": "ipython3",
      "version": "3.9.7"
    },
    "colab": {
      "name": "CLASSWORK(Satendra).ipynb",
      "provenance": [],
      "collapsed_sections": []
    }
  },
  "nbformat": 4,
  "nbformat_minor": 5
}