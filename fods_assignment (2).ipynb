{
  "nbformat": 4,
  "nbformat_minor": 0,
  "metadata": {
    "colab": {
      "name": "fods assignment.ipynb",
      "provenance": []
    },
    "kernelspec": {
      "name": "python3",
      "display_name": "Python 3"
    },
    "language_info": {
      "name": "python"
    }
  },
  "cells": [
    {
      "cell_type": "code",
      "execution_count": 3,
      "metadata": {
        "colab": {
          "base_uri": "https://localhost:8080/"
        },
        "id": "kkTMuudF8hFi",
        "outputId": "f7156120-fa5c-4853-f574-3f9d6ba83819"
      },
      "outputs": [
        {
          "output_type": "stream",
          "name": "stdout",
          "text": [
            "Student: Atit 20\n",
            "School name: Balmiki School\n"
          ]
        }
      ],
      "source": [
        "class Student:\n",
        " \n",
        "    school_name = 'Balmiki School'\n",
        "\n",
        "\n",
        "    def __init__(self, name, age):\n",
        "\n",
        "        self.name = name\n",
        "        self.age = age\n",
        "\n",
        "s1 = Student(\"Atit\", 20)\n",
        "\n",
        "print('Student:', s1.name, s1.age)\n",
        "\n",
        "\n",
        "print('School name:', Student.school_name)\n",
        "\n",
        "\n"
      ]
    },
    {
      "cell_type": "code",
      "source": [
        ""
      ],
      "metadata": {
        "id": "2gSg3IEr8oeM"
      },
      "execution_count": null,
      "outputs": []
    }
  ]
}