{
  "cells": [
    {
      "cell_type": "code",
      "execution_count": null,
      "metadata": {
        "id": "OcA49RoDllha"
      },
      "outputs": [],
      "source": [
        "\n",
        "class Grandf:\n",
        "    def Grandf_info(self):\n",
        "        print('Inside Grandf class')\n",
        "class father(Grandf):\n",
        "    def father_info(self):\n",
        "        print('Inside father class')\n",
        "father = father()\n",
        "father.Grandf_info()\n",
        "father.father_info()"
      ]
    }
  ],
  "metadata": {
    "colab": {
      "name": "Untitled3.ipynb",
      "provenance": []
    },
    "kernelspec": {
      "display_name": "Python 3",
      "name": "python3"
    },
    "language_info": {
      "name": "python"
    }
  },
  "nbformat": 4,
  "nbformat_minor": 0
}
