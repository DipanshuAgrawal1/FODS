{
  "nbformat": 4,
  "nbformat_minor": 0,
  "metadata": {
    "colab": {
      "name": "Untitled25.ipynb",
      "provenance": []
    },
    "kernelspec": {
      "name": "python3",
      "display_name": "Python 3"
    },
    "language_info": {
      "name": "python"
    }
  },
  "cells": [
    {
      "cell_type": "code",
      "execution_count": null,
      "metadata": {
        "id": "CTGrloTvUtCk"
      },
      "outputs": [],
      "source": [
        "import csv\n",
        "with open(r'file.csv', newline='') as f:\n",
        "   reader = csv.reader(f)\n",
        "   data_list = list(reader)\n",
        "print(data_list)"
      ]
    },
    {
      "cell_type": "code",
      "source": [
        "import pandas as pd\n",
        "covid_data= pd.read_csv('https://raw.githubusercontent.com/CSSEGISandData/COVID-19/master/csse_covid_19_data/csse_covid_19_daily_reports/03-17-2020.csv')\n",
        "print(covid_data)\n",
        "print(\"\\nDataset information:\")\n",
        "print(covid_data.info())\n",
        "print(\"\\nMissing data information:\")\n",
        "print(covid_data.isna().sum())"
      ],
      "metadata": {
        "colab": {
          "base_uri": "https://localhost:8080/"
        },
        "id": "JUMimtyyZHOR",
        "outputId": "e7042afd-589c-457d-b8a8-86d62710c8ee"
      },
      "execution_count": null,
      "outputs": [
        {
          "output_type": "stream",
          "name": "stdout",
          "text": [
            "        Province/State Country/Region  ... Latitude  Longitude\n",
            "0                Hubei          China  ...  30.9756   112.2707\n",
            "1                  NaN          Italy  ...  41.8719    12.5674\n",
            "2                  NaN           Iran  ...  32.4279    53.6880\n",
            "3                  NaN          Spain  ...  40.4637    -3.7492\n",
            "4                  NaN        Germany  ...  51.1657    10.4515\n",
            "..                 ...            ...  ...      ...        ...\n",
            "293  W.P. Kuala Lumpur       Malaysia  ...   3.1390   101.6869\n",
            "294        W.P. Labuan       Malaysia  ...   5.2831   115.2308\n",
            "295     W.P. Putrajaya       Malaysia  ...   2.9264   101.6964\n",
            "296            Unknown       Malaysia  ...      NaN        NaN\n",
            "297                NaN          Tonga  ... -21.1790  -175.1982\n",
            "\n",
            "[298 rows x 8 columns]\n",
            "\n",
            "Dataset information:\n",
            "<class 'pandas.core.frame.DataFrame'>\n",
            "RangeIndex: 298 entries, 0 to 297\n",
            "Data columns (total 8 columns):\n",
            " #   Column          Non-Null Count  Dtype  \n",
            "---  ------          --------------  -----  \n",
            " 0   Province/State  145 non-null    object \n",
            " 1   Country/Region  298 non-null    object \n",
            " 2   Last Update     298 non-null    object \n",
            " 3   Confirmed       298 non-null    int64  \n",
            " 4   Deaths          298 non-null    int64  \n",
            " 5   Recovered       298 non-null    int64  \n",
            " 6   Latitude        296 non-null    float64\n",
            " 7   Longitude       296 non-null    float64\n",
            "dtypes: float64(2), int64(3), object(3)\n",
            "memory usage: 18.8+ KB\n",
            "None\n",
            "\n",
            "Missing data information:\n",
            "Province/State    153\n",
            "Country/Region      0\n",
            "Last Update         0\n",
            "Confirmed           0\n",
            "Deaths              0\n",
            "Recovered           0\n",
            "Latitude            2\n",
            "Longitude           2\n",
            "dtype: int64\n"
          ]
        }
      ]
    },
    {
      "cell_type": "code",
      "source": [
        "import numpy as np\n",
        "x = np.array([3, 5])\n",
        "y = np.array([2, 5])\n",
        "print(\"Original numbers:\")\n",
        "print(x)\n",
        "print(y)\n",
        "print(\"Comparison - greater\")\n",
        "print(np.greater(x, y))\n",
        "print(\"Comparison - greater_equal\")\n",
        "print(np.greater_equal(x, y))\n",
        "print(\"Comparison - less\")\n",
        "print(np.less(x, y))\n",
        "print(\"Comparison - less_equal\")\n",
        "print(np.less_equal(x, y))"
      ],
      "metadata": {
        "colab": {
          "base_uri": "https://localhost:8080/"
        },
        "id": "4EcQxAQcZo9I",
        "outputId": "a4e15455-179f-40d3-dba2-f86ffcd9e5e2"
      },
      "execution_count": null,
      "outputs": [
        {
          "output_type": "stream",
          "name": "stdout",
          "text": [
            "Original numbers:\n",
            "[3 5]\n",
            "[2 5]\n",
            "Comparison - greater\n",
            "[ True False]\n",
            "Comparison - greater_equal\n",
            "[ True  True]\n",
            "Comparison - less\n",
            "[False False]\n",
            "Comparison - less_equal\n",
            "[False  True]\n"
          ]
        }
      ]
    },
    {
      "cell_type": "code",
      "source": [
        "import matplotlib.pyplot as plt\n",
        "year=[2000,2010,2030,2050,2060,2070,2080]\n",
        "no_of_infants_death=[30,16,14,12,11,10,5]\n",
        "plt.plot(year,no_of_infants_death,color=\"red\")\n",
        "plt.xlabel(\"Year in BS\")\n",
        "plt.ylabel(\"Percentage of Infants death \")\n",
        "plt.title(\"Infants death in the Nepal\")\n",
        "plt.show()\n",
        "\n"
      ],
      "metadata": {
        "colab": {
          "base_uri": "https://localhost:8080/",
          "height": 295
        },
        "id": "JJMBihQLZqx5",
        "outputId": "2eb1b739-b779-4290-9e67-8285d2b80549"
      },
      "execution_count": null,
      "outputs": [
        {
          "output_type": "display_data",
          "data": {
            "image/png": "[encoded data removed]",
            "text/plain": [
              "<Figure size 432x288 with 1 Axes>"
            ]
          },
          "metadata": {
            "needs_background": "light"
          }
        }
      ]
    },
    {
      "cell_type": "code",
      "source": [
        "class Vehicle:\n",
        "    def __init__(self, name,capacity):\n",
        "        self.name = name\n",
        "        self.capacity = capacity\n",
        "\n",
        "    def fare(self):\n",
        "        return self.capacity * 100\n",
        "\n",
        "class Bus(Vehicle):    \n",
        "    def fare(self):\n",
        "        fare_car = self.capacity * 100 \n",
        "        total_fare = fare_car + (0.1 *fare_car)\n",
        "        return total_fare\n",
        "Bus1= Bus(\" Bus\", 100)\n",
        "print(\"Total Bus fare is:\", Bus1.fare())"
      ],
      "metadata": {
        "colab": {
          "base_uri": "https://localhost:8080/"
        },
        "id": "nf4QPXKLaH9e",
        "outputId": "07d7d39a-a2a0-474e-a1e0-25f5c6531c5a"
      },
      "execution_count": null,
      "outputs": [
        {
          "output_type": "stream",
          "name": "stdout",
          "text": [
            "Total Bus fare is: 11000.0\n"
          ]
        }
      ]
    },
    {
      "cell_type": "code",
      "source": [
        ""
      ],
      "metadata": {
        "id": "3dpc71q1aZ4X"
      },
      "execution_count": null,
      "outputs": []
    }
  ]
}