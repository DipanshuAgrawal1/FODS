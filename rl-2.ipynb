{
  "nbformat": 4,
  "nbformat_minor": 0,
  "metadata": {
    "colab": {
      "name": "rl",
      "provenance": []
    },
    "kernelspec": {
      "name": "python3",
      "display_name": "Python 3"
    },
    "language_info": {
      "name": "python"
    }
  },
  "cells": [
    {
      "cell_type": "code",
      "execution_count": null,
      "metadata": {
        "id": "kByvDxeLn5cW",
        "outputId": "791a57d2-b97e-48a5-e0bc-da06bbf62329",
        "colab": {
          "base_uri": "https://localhost:8080/"
        }
      },
      "outputs": [
        {
          "output_type": "stream",
          "name": "stdout",
          "text": [
            "Inside Grandf class\n",
            "Inside father class\n"
          ]
        }
      ],
      "source": [
        "class Grandf:\n",
        "    def Grandf_info(self):\n",
        "        print('Inside Grandf class')\n",
        "class father(Grandf):\n",
        "    def father_info(self):\n",
        "        print('Inside father class')\n",
        "father = father()\n",
        "father.Grandf_info()\n",
        "father.father_info()"
      ]
    },
    {
      "cell_type": "code",
      "source": [
        "# Base class\n",
        "class Vehicle:\n",
        "    def Vehicle_info(self):\n",
        "        print('Inside Vehicle class')\n",
        "\n",
        "# Child class\n",
        "class Car(Vehicle):\n",
        "    def car_info(self):\n",
        "        print('Inside Car class')\n",
        "\n",
        "# Create object of Car\n",
        "car = Car()\n",
        "\n",
        "# access Vehicle's info using car object\n",
        "car.Vehicle_info()\n",
        "car.car_info()"
      ],
      "metadata": {
        "colab": {
          "base_uri": "https://localhost:8080/"
        },
        "id": "2kCkgQUqTabf",
        "outputId": "a432fb50-8b1a-4e2d-a4d9-56e0e9ccaa24"
      },
      "execution_count": 1,
      "outputs": [
        {
          "output_type": "stream",
          "name": "stdout",
          "text": [
            "Inside Vehicle class\n",
            "Inside Car class\n"
          ]
        }
      ]
    }
  ]
}