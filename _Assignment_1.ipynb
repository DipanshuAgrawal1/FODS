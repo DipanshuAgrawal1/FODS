{
  "nbformat": 4,
  "nbformat_minor": 0,
  "metadata": {
    "colab": {
      "name": "_Assignment_1.ipynb",
      "provenance": []
    },
    "kernelspec": {
      "name": "python3",
      "display_name": "Python 3"
    }
  },
  "cells": [
    {
      "cell_type": "markdown",
      "metadata": {
        "id": "uiK0fGWOnXcQ"
      },
      "source": [
        "Book :- \n",
        "Author :- Mark Lutz \n",
        "1. Learning Python 5th Edition O'Reilly\n",
        "2.Python Cookbook  David Beazley O'Reilly \n",
        "\n",
        "Link:- \n",
        "1.https://pynative.com/python/basics/\n",
        "2. http://www.cs.uni.edu/~fienup/cs051f10/lectures/\n",
        "3. https://github.com/MrAlex6204/Books/blob/master/Learning%20Python%2C%205th%20Edition.pdf\n",
        "4. https://github.com/tomarraj008/data_books/blob/master/Python%20Cookbook%2C%203rd%20Edition.pdf\n",
        "\n"
      ]
    },
    {
      "cell_type": "markdown",
      "metadata": {
        "id": "g5RW89-P01bg"
      },
      "source": [
        "First Week Assignment \n",
        "\n",
        "Test Your Knowledge: Quiz \n",
        "\n",
        "1. What are the six main reasons that people choose to use Python?\n",
        "2. Name four notable companies or organizations using Python today.\n",
        "3. Why might you not want to use Python in an application?\n",
        "4. What can you do with Python?\n",
        "5. What’s the significance of the Python import this statement?\n",
        "6. Why does “spam” show up in so many Python examples in books and on the Web?\n",
        "7. What is your favorite color?\n",
        "\n",
        "\n",
        "Test Your Knowledge: Quiz\n",
        "1. What is the Python interpreter?\n",
        "2. What is source code?\n",
        "3. What is byte code?\n",
        "4. What is the PVM?\n",
        "5. Name two or more variations on Python’s standard execution model.\n",
        "6. How are CPython, Jython, and IronPython different?\n",
        "7. What are Stackless and PyPy?\n",
        "\n",
        "Test Your Knowledge: Quiz\n",
        "1. How can you start an interactive interpreter session?\n",
        "2. Where do you type a system command line to launch a script file?\n",
        "3. Name four or more ways to run the code saved in a script file.\n",
        "4. Name two pitfalls related to clicking file icons on Windows.\n",
        "5. Why might you need to reload a module?\n",
        "6. How do you run a script from within IDLE?\n",
        "7. Name two pitfalls related to using IDLE.\n",
        "8. What is a namespace, and how does it relate to module files?\n",
        "\n",
        "\n",
        "Test Your Knowledge: Quiz\n",
        "\n",
        "1. Name four of Python’s core data types.\n",
        "2. Why are they called “core” data types?\n",
        "3. What does “immutable” mean, and which three of Python’s core types are considered immutable?\n",
        "4. What does “sequence” mean, and which three types fall into that category?\n",
        "5. What does “mapping” mean, and which core type is a mapping?\n",
        "6. What is “polymorphism,” and why should you care?\n",
        "\n",
        "\n",
        "\n"
      ]
    },
    {
      "cell_type": "markdown",
      "metadata": {
        "id": "6kafgQs5S8WY"
      },
      "source": [
        "**Projects:-**<br>\n",
        "1. Open a Python shell, enter the following expressions, and observe the results:<br>\n",
        "a. 8<br>\n",
        "b. 8 * 2<br>\n",
        "c. 8 ** 2<br>\n",
        "d. 8/12<br>\n",
        "e. 8 // 12<br>\n",
        "f. 8/0"
      ]
    },
    {
      "cell_type": "code",
      "metadata": {
        "id": "M0vvPpdkTWOZ",
        "colab": {
          "base_uri": "https://localhost:8080/"
        },
        "outputId": "98aec307-1ef9-4e8c-eea6-1ef10027bf29"
      },
      "source": [
        "8\n",
        "16\n",
        "64\n",
        "0.6666666666666666\n",
        "0\n",
        "Traceback Error"
      ],
      "execution_count": 1,
      "outputs": [
        {
          "output_type": "execute_result",
          "data": {
            "text/plain": [
              "8"
            ]
          },
          "metadata": {},
          "execution_count": 1
        }
      ]
    },
    {
      "cell_type": "markdown",
      "metadata": {
        "id": "ySRylLzXTg4L"
      },
      "source": [
        "2. Write a Python program that prints (displays) your name, address, and telephone number"
      ]
    },
    {
      "cell_type": "code",
      "metadata": {
        "id": "IC-e8BmAUMex"
      },
      "source": [
        "name=\"Diwon\"\n",
        "Address=\"Kathmandu\"\n",
        "Telephone_number=\"12332212\"\n",
        "print(name)\n",
        "print(Address)\n",
        "print(Telephone_number)"
      ],
      "execution_count": null,
      "outputs": []
    },
    {
      "cell_type": "markdown",
      "metadata": {
        "id": "H-t99QCLUNap"
      },
      "source": [
        "3. Evaluate the following code at a shell prompt: print(\"Your name is\", name). Then assign name an appropriate value, and evaluate the statement again."
      ]
    },
    {
      "cell_type": "code",
      "metadata": {
        "id": "dXcXgJUSUhwR"
      },
      "source": [
        "name=\"Diwon\"\n",
        "print(\"Your name is\", name)"
      ],
      "execution_count": null,
      "outputs": []
    },
    {
      "cell_type": "markdown",
      "metadata": {
        "id": "qjgWML-AUi-v"
      },
      "source": [
        "4. Write and test a program that accepts the user's name(as text) and age(as a number) as input. The program should output a sentense containing the user's name and age."
      ]
    },
    {
      "cell_type": "code",
      "metadata": {
        "id": "a3yt3ND1WkF0",
        "colab": {
          "base_uri": "https://localhost:8080/"
        },
        "outputId": "d83820f1-da64-46f7-dc4f-57ee60cd5e24"
      },
      "source": [
        "name=input(\"Enter your name\")\n",
        "age=int(input(\"Enter your age\"))\n",
        "print(name,\"is\",age,\"years old\")"
      ],
      "execution_count": 6,
      "outputs": [
        {
          "output_type": "stream",
          "name": "stdout",
          "text": [
            "Enter your nameDiwon\n",
            "Enter your age18\n",
            "Diwon is 18 years old\n"
          ]
        }
      ]
    },
    {
      "cell_type": "markdown",
      "metadata": {
        "id": "Fw-qO1W9WlGW"
      },
      "source": [
        "5. Write and test a program that computes the area of a circle. This program should request a number representing  a radius as input from the user. It should use the formula 3.14*radius**2 to compute the area and then output this result suitably labeled."
      ]
    },
    {
      "cell_type": "code",
      "metadata": {
        "id": "PwqzW8U-W8fB",
        "colab": {
          "base_uri": "https://localhost:8080/"
        },
        "outputId": "12dd3b56-bf82-4012-8913-47daac868bc1"
      },
      "source": [
        "from math import pi\n",
        "r = float(input (\"Input the radius of the circle : \"))\n",
        "area= pi * r**2\n",
        "print\"The area of the circle is \",area"
      ],
      "execution_count": 8,
      "outputs": [
        {
          "output_type": "stream",
          "name": "stdout",
          "text": [
            "Input the radius of the circle : 2\n",
            "The area of the circle is  12.566370614359172\n"
          ]
        }
      ]
    },
    {
      "cell_type": "markdown",
      "metadata": {
        "id": "roHMT8eHXDFg"
      },
      "source": [
        "6. Enter an input statement using the input function at the shll prompt. When the prompt asks you for input, enter a number. Then, attempt to add 1 to that number, observe the results and explain what happened."
      ]
    },
    {
      "cell_type": "markdown",
      "source": [
        "**This gives error at line num= num + 1 as cannot convert int object to str implicitly**\n"
      ],
      "metadata": {
        "id": "gHr-LUIFjXWv"
      }
    },
    {
      "cell_type": "markdown",
      "source": [
        "7.Enter the expression help() at the shell prompt. Follow the instructions to browse the topics and modules."
      ],
      "metadata": {
        "id": "ILQuiTagjuq4"
      }
    },
    {
      "cell_type": "markdown",
      "source": [
        "Welcome to Python 3.10's help utility!\n",
        "\n",
        "If this is your first time using Python, you should definitely check out\n",
        "the tutorial on the internet at https://docs.python.org/3.10/tutorial/.\n",
        "\n",
        "Enter the name of any module, keyword, or topic to get help on writing\n",
        "Python programs and using Python modules.  To quit this help utility and\n",
        "return to the interpreter, just type \"quit\". "
      ],
      "metadata": {
        "id": "fUKchBs5jzXb"
      }
    },
    {
      "cell_type": "markdown",
      "metadata": {
        "id": "Mh0jLr5HYCzo"
      },
      "source": [
        "8. The tax calculator program of the case study outputs a floating-point number that might show more than two digits of precision. Use the round function to modify the program to display at most two digits of precision in the output number."
      ]
    },
    {
      "cell_type": "code",
      "metadata": {
        "id": "6JN4PaojYEK4",
        "colab": {
          "base_uri": "https://localhost:8080/"
        },
        "outputId": "656afba0-e587-45d9-fc13-c344a21757cd"
      },
      "source": [
        "incomeTax=float(input(\"Enter the tax to round\"))\n",
        "print(\"The income tax is $\" + str(round(incomeTax,2)))"
      ],
      "execution_count": 10,
      "outputs": [
        {
          "output_type": "stream",
          "name": "stdout",
          "text": [
            "Enter the tax to round12.887882\n",
            "The income tax is $12.89\n"
          ]
        }
      ]
    },
    {
      "cell_type": "markdown",
      "metadata": {
        "id": "SeHW1j9kYF8Q"
      },
      "source": [
        "9. You can calculate the surface area of a cube if you know the length of an edge. Write a program that takes the length of an edge(an integer) as input and prints the cube's surface area as output."
      ]
    },
    {
      "cell_type": "code",
      "metadata": {
        "id": "otcAXgxxYkx6",
        "colab": {
          "base_uri": "https://localhost:8080/"
        },
        "outputId": "0c963888-62df-4f98-ae70-dc8fcdd324d9"
      },
      "source": [
        "a=int(input(\"enter the length of an edge\"))\n",
        "sa=6*(a**2)\n",
        "print(\"The surface area of the cube is\",sa)"
      ],
      "execution_count": 12,
      "outputs": [
        {
          "output_type": "stream",
          "name": "stdout",
          "text": [
            "enter the length of an edge12\n",
            "The surface area of the cube is 864\n"
          ]
        }
      ]
    },
    {
      "cell_type": "markdown",
      "metadata": {
        "id": "O3379lCKYlcr"
      },
      "source": [
        "10.Five Star Retro Video rents VHS tapes and DVDs to the same connoisseurs who like to buy LP record albums. The store rents new videos for $3.00 a night, and oldies for $2.00 a night.\n",
        "\n",
        "Write a program that the clerks at Five Star Retro Video can use to calculate the total charge for a customer’s video rentals.\n",
        "\n",
        "The program should prompt the user for the number of each type of video and output the total cost."
      ]
    },
    {
      "cell_type": "code",
      "metadata": {
        "id": "kKoIAmUpY4dY",
        "colab": {
          "base_uri": "https://localhost:8080/"
        },
        "outputId": "414c6d76-1035-4385-b561-4e140b25ef26"
      },
      "source": [
        "Old=int(input(\"Enter the amount of old VHS/DVD rented \"))\n",
        "New=int(input(\"Enter the amount of new VHS/DVD rented \"))\n",
        "cost=(Old*2)+(New*3)\n",
        "print(\"The total cost for this customer is\", cost)"
      ],
      "execution_count": 13,
      "outputs": [
        {
          "output_type": "stream",
          "name": "stdout",
          "text": [
            "Enter the amount of old VHS/DVD rented1\n",
            "Enter the amount of new VHS/DVD rented2\n",
            "The total cost for this customer is 8\n"
          ]
        }
      ]
    },
    {
      "cell_type": "markdown",
      "metadata": {
        "id": "oBQWzZuoY9dH"
      },
      "source": [
        "11. Write a program that takes the radius of a sphere(a floating point number) as input and then outputs the sphere's diameter, circumference, surface area and volume."
      ]
    },
    {
      "cell_type": "code",
      "metadata": {
        "id": "MNAlLLYrbatP",
        "colab": {
          "base_uri": "https://localhost:8080/"
        },
        "outputId": "01e565e9-34cc-40cd-fb23-27b74b814019"
      },
      "source": [
        "r=float(input(\"Enter the radius of sphere\"))\n",
        "diameter= 2*r\n",
        "circumference= 2*3.14*(r**2)\n",
        "surface_area= 4*3.14*(r**2)\n",
        "volume=4/3*(3.14)*(r**3)\n",
        "print(\"The diameter of the sphere is\",diameter)\n",
        "print(\"The circumference of the sphere is\",circumference)\n",
        "print(\"The surface area of the sphere is\",surface_area)\n",
        "print(\"The volume of the sphere is\",volume)"
      ],
      "execution_count": 15,
      "outputs": [
        {
          "output_type": "stream",
          "name": "stdout",
          "text": [
            "Enter the radius of sphere2\n",
            "The diameter of the sphere is 4.0\n",
            "The circumference of the sphere is 25.12\n",
            "The surface area of the sphere is 50.24\n",
            "The volume of the sphere is 33.49333333333333\n"
          ]
        }
      ]
    },
    {
      "cell_type": "markdown",
      "metadata": {
        "id": "zOx3W9G8bb_2"
      },
      "source": [
        "12. Instructions An object's momentum is its mass multiplied by its velocity. Write a program that accepts an object's mass (in kilograms) and velocity (in meters per second) as inputs, and then outputs its momentum."
      ]
    },
    {
      "cell_type": "code",
      "metadata": {
        "id": "hlYAuUajdI0X"
      },
      "source": [
        "mass=int(input(\"Enter the mass of an object\"))\n",
        "velocity=int(input(\"Enter the velocity of object in meter/second\"))\n",
        "momentum=mass*velocity\n",
        "print(\"The momentium of the object is \",momentum)"
      ],
      "execution_count": null,
      "outputs": []
    },
    {
      "cell_type": "markdown",
      "metadata": {
        "id": "jU4yPCcrdf0D"
      },
      "source": [
        "13. The kinetic energy of a moving object is given by the formula KE = ½mv2 where m is the object’s mass and v is its velocity.\n",
        "\n",
        "Modify the program you created in Project 5 so that it prints the object’s kinetic energy as well as its momentum."
      ]
    },
    {
      "cell_type": "code",
      "metadata": {
        "id": "ocVu-KGkd9lN"
      },
      "source": [
        "mass=int(input(\"Enter the mass of an object\"))\n",
        "velocity=int(input(\"Enter the velocity of object in meter/second\"))\n",
        "momentum=mass*velocity\n",
        "kinetic_energy=1/2*mass*(velocity**2)\n",
        "print(\"The momentium of the object is \",momentum)\n",
        "print(\"The kinetic energy of the object is\", kinetic_energy)"
      ],
      "execution_count": null,
      "outputs": []
    },
    {
      "cell_type": "markdown",
      "metadata": {
        "id": "KGUdbd0Od-TE"
      },
      "source": [
        "14. An employee’s total weekly pay equals the hourly wage multiplied by the total number of regular hours plus any overtime pay. Overtime pay equals the total overtime hours multiplied by 1.5 times the hourly wage. Write a program that takes as inputs the hourly wage, total regular hours, and total overtime hours and displays an employee’s total weekly pay."
      ]
    },
    {
      "cell_type": "code",
      "metadata": {
        "id": "d4lYL0jFekM1",
        "colab": {
          "base_uri": "https://localhost:8080/"
        },
        "outputId": "78eb7447-8bf3-47c0-b716-55b4ef10cbcd"
      },
      "source": [
        "hour=float(input(\"Enter the working hours \"))\n",
        "hw=15\n",
        "ohour=float(input(\"Enter the overtime working hours \"))\n",
        "wage=(hour*hw)+ohour*(hw*1.5)\n",
        "print(\"The total weekly wage is \", wage)"
      ],
      "execution_count": 17,
      "outputs": [
        {
          "output_type": "stream",
          "name": "stdout",
          "text": [
            "Enter the working hours12\n",
            "Enter the overtime working hours3\n",
            "The total weekly wage is  247.5\n"
          ]
        }
      ]
    },
    {
      "cell_type": "markdown",
      "metadata": {
        "id": "6KBqGepcfGWI"
      },
      "source": [
        ""
      ]
    }
  ]
}