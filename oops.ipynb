{
 "cells": [
  {
   "cell_type": "code",
   "execution_count": 1,
   "id": "a7bdbb4f",
   "metadata": {},
   "outputs": [],
   "source": [
    "class Employee:\n",
    "    def __init__(self,name,position,salary):\n",
    "        self.name=name\n",
    "        self.position=position\n",
    "        self.salary=salary\n",
    "    def show(self):\n",
    "        print(\"The name is \",self.name)\n",
    "        print(\"The Position  is \",self.name)\n",
    "        print(\"The Salary is \",self.name)\n",
    "        \n",
    "Employee1=Employee(\"Shasan Dhakal\",\"CTO\",500000)\n",
    "Employee1.show()"
   ]
  },
  {
   "cell_type": "code",
   "execution_count": 11,
   "id": "8db82ec8",
   "metadata": {},
   "outputs": [
    {
     "name": "stdout",
     "output_type": "stream",
     "text": [
      "The name is  Shasan Dhakal\n",
      "The Position  is  Shasan Dhakal\n",
      "The Salary is  Shasan Dhakal\n",
      "The compnay Name is Google\n",
      "The name is  Shasan Dhakal\n",
      "The Position  is  Shasan Dhakal\n",
      "The Salary is  Shasan Dhakal\n",
      "The compnay Name is Netflix\n"
     ]
    }
   ],
   "source": [
    "class Emp:\n",
    "    company_name=\"Google\"\n",
    "    def __init__(self,name,position,salary):\n",
    "        self.name=name\n",
    "        self.position=position\n",
    "        self.salary=salary\n",
    "    def show(self):\n",
    "        print(\"The name is \",self.name)\n",
    "        print(\"The Position  is \",self.name)\n",
    "        print(\"The Salary is \",self.name)\n",
    "        print(\"The compnay Name is\",self.company_name)\n",
    "    @classmethod\n",
    "    def change_company(change,cn):\n",
    "        change.company_name=cn\n",
    "        \n",
    "Emp1=Emp(\"Shasan Dhakal\",\"CTO\",500000)\n",
    "Emp1.show()\n",
    "Emp1.change_company(\"Netflix\")\n",
    "Emp1.show()"
   ]
  },
  {
   "cell_type": "code",
   "execution_count": 26,
   "id": "5b64f322",
   "metadata": {},
   "outputs": [
    {
     "name": "stdout",
     "output_type": "stream",
     "text": [
      "Black\n"
     ]
    }
   ],
   "source": [
    "#multiple inheritance\n",
    "class Mercedes:\n",
    "    model=\"S-Class\"\n",
    "    colour=\"Black\"\n",
    "    \n",
    "\n",
    "class Maybach:\n",
    "    model=\"s-600\"\n",
    "    colour=\"black\"\n",
    "\n",
    "class Setra(Mercedes,Maybach):\n",
    "    date=\"23rd August\"\n",
    "    \n",
    "    def __init__(self):\n",
    "        print(f\"{self.colour}\")#class Setra(Mercedes,Maybach):mercedes bhanne \n",
    "        #class pahila declare bhako chha tesaile mercedes ko colour dekhayo \n",
    "sedan=Setra()\n",
    "#sedan.colour1()#string object is not callable but the function is \n",
    "    "
   ]
  },
  {
   "cell_type": "code",
   "execution_count": 29,
   "id": "a4655cca",
   "metadata": {},
   "outputs": [
    {
     "name": "stdout",
     "output_type": "stream",
     "text": [
      "I am a Progarmmer so I am breathing++..\n",
      "Fiverr\n",
      "Honda\n"
     ]
    }
   ],
   "source": [
    "#multilevel inheritance\n",
    "class Person:\n",
    "    country = \"India\"\n",
    "    def takeBreath(self):\n",
    "        print(\"I am breathing...\")\n",
    "\n",
    "class Employee(Person):\n",
    "    country = \"Honda\"\n",
    "\n",
    "    def getSalary(self):\n",
    "        print(f\"Salary is {self.salary}\")\n",
    "    \n",
    "    def takeBreath(self):\n",
    "        print(\"I am an Employee so I am luckily breathing..\")\n",
    "\n",
    "class Programmer(Employee):\n",
    "    company = \"Fiverr\"\n",
    "    \n",
    "    def getSalary(self):\n",
    "        print(f\"No salary to programmers\")\n",
    "    \n",
    "    def takeBreath(self):\n",
    "        print(\"I am a Progarmmer so I am breathing++..\")\n",
    "\n",
    "#p = Person()\n",
    "#p.takeBreath()\n",
    "# print(p.company) # throws an error\n",
    "\n",
    "#e = Employee()\n",
    "#e.takeBreath()\n",
    "#print(e.company)\n",
    "\n",
    "pr = Programmer()\n",
    "pr.takeBreath()\n",
    "print(pr.company)\n",
    "print(pr.country)\n",
    "\n",
    "'''\n",
    "Note:\n",
    "->class programmer le pahila country bhanne variable afno papa class employee bata garyo#(you r close to ur fathrer than your grandfather)\n",
    "->\n",
    "->\n",
    "'''\n"
   ]
  },
  {
   "cell_type": "code",
   "execution_count": 31,
   "id": "32f3e8d2",
   "metadata": {},
   "outputs": [
    {
     "name": "stdout",
     "output_type": "stream",
     "text": [
      "Initializing Programmer...\n",
      "\n",
      "I am breathing...\n",
      "I am an Employee so I am luckily breathing..\n",
      "I am a Progarmmer so I am breathing++..\n"
     ]
    }
   ],
   "source": [
    "class Person:\n",
    "    country = \"India\"\n",
    "\n",
    "    def __init__(self):\n",
    "        print(\"Initializing Person...\\n\")\n",
    "\n",
    "    def takeBreath(self):\n",
    "        print(\"I am breathing...\")\n",
    "\n",
    "class Employee(Person):\n",
    "    company = \"Honda\"\n",
    "\n",
    "    def __init__(self):\n",
    "        super().__init__()\n",
    "        print(\"Initializing Employee...\\n\")\n",
    "\n",
    "    def getSalary(self):\n",
    "        print(f\"Salary is {self.salary}\")\n",
    "    \n",
    "    def takeBreath(self):\n",
    "        super().takeBreath()\n",
    "        print(\"I am an Employee so I am luckily breathing..\")\n",
    "\n",
    "class Programmer(Employee):\n",
    "    company = \"Fiverr\"\n",
    "\n",
    "    def __init__(self):\n",
    "        # super().__init__()\n",
    "        print(\"Initializing Programmer...\\n\")\n",
    "\n",
    "    def getSalary(self):\n",
    "        print(f\"No salary to programmers\")\n",
    "    \n",
    "    def takeBreath(self):\n",
    "        super().takeBreath()#afno sabai superclass bata takebreath() bhanne function call garyo \n",
    "        print(\"I am a Progarmmer so I am breathing++..\")\n",
    "\n",
    "# p = Person()\n",
    "# p.takeBreath() \n",
    "\n",
    "# e = Employee()\n",
    "# e.takeBreath() \n",
    "\n",
    "pr = Programmer()\n",
    "pr.takeBreath() \n"
   ]
  },
  {
   "cell_type": "code",
   "execution_count": 38,
   "id": "cd4a8d1f",
   "metadata": {},
   "outputs": [
    {
     "data": {
      "text/plain": [
       "1100000"
      ]
     },
     "execution_count": 38,
     "metadata": {},
     "output_type": "execute_result"
    }
   ],
   "source": [
    "class Car:\n",
    "        base_price=1000000\n",
    "        \n",
    "        @classmethod#classmethod is used to change the class attribute(class ko variable)\n",
    "        def changebp(cls,bp):\n",
    "            cls.base_price=bp\n",
    "Car.changebp(1100000)\n",
    "Car.base_price"
   ]
  },
  {
   "cell_type": "code",
   "execution_count": 1,
   "id": "4bec4d47",
   "metadata": {},
   "outputs": [
    {
     "name": "stdout",
     "output_type": "stream",
     "text": [
      "['Apple', 'Mango', 'Strawberry']\n"
     ]
    }
   ],
   "source": [
    " "
   ]
  },
  {
   "cell_type": "code",
   "execution_count": null,
   "id": "58cbbd9a",
   "metadata": {},
   "outputs": [],
   "source": []
  }
 ],
 "metadata": {
  "kernelspec": {
   "display_name": "Python 3 (ipykernel)",
   "language": "python",
   "name": "python3"
  },
  "language_info": {
   "codemirror_mode": {
    "name": "ipython",
    "version": 3
   },
   "file_extension": ".py",
   "mimetype": "text/x-python",
   "name": "python",
   "nbconvert_exporter": "python",
   "pygments_lexer": "ipython3",
   "version": "3.9.7"
  }
 },
 "nbformat": 4,
 "nbformat_minor": 5
}
