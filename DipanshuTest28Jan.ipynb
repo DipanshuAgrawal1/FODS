{
  "nbformat": 4,
  "nbformat_minor": 0,
  "metadata": {
    "colab": {
      "name": "DipanshuTest28Jan",
      "provenance": []
    },
    "kernelspec": {
      "name": "python3",
      "display_name": "Python 3"
    },
    "language_info": {
      "name": "python"
    }
  },
  "cells": [
    {
      "cell_type": "markdown",
      "source": [
        "1. Create a Bus child class that inherits from the Vehicle class. The default fare charge of any vehicle is seating capacity * 100. If Vehicle is Bus instance, we need to add an extra 10% on full fare as a maintenance charge. So total fare for bus instance will become the final amount = total fare + 10% of the total fare.\n"
      ],
      "metadata": {
        "id": "kVU0oo90mARz"
      }
    },
    {
      "cell_type": "code",
      "execution_count": 3,
      "metadata": {
        "colab": {
          "base_uri": "https://localhost:8080/"
        },
        "id": "6qX-JeH7l3tf",
        "outputId": "5a2e2c58-ec48-4888-cd9d-922250a45cd1"
      },
      "outputs": [
        {
          "output_type": "stream",
          "name": "stdout",
          "text": [
            "The total Bus fare is: 2750.0\n"
          ]
        }
      ],
      "source": [
        "class Vehicle:\n",
        "    def __init__(self, distance, capacity):\n",
        "        self.distance = distance\n",
        "        self.capacity = capacity\n",
        "\n",
        "    def fare(self):\n",
        "        return self.capacity * 100\n",
        "\n",
        "class Bus(Vehicle):\n",
        "    def fare(self):\n",
        "        fare_bus = self.capacity * 100\n",
        "        total_fare = fare_bus + (0.1 *fare_bus)\n",
        "        return total_fare\n",
        "Hamro_Bus = Bus(10, 25)\n",
        "print(\"The total Bus fare is:\", Hamro_Bus.fare())"
      ]
    },
    {
      "cell_type": "markdown",
      "source": [
        "2. Write a Python program to read a given CSV file as a list.\n"
      ],
      "metadata": {
        "id": "mp7r6DffmA8d"
      }
    },
    {
      "cell_type": "code",
      "source": [
        "import csv\n",
        "with open('cities.csv', 'r') as file:\n",
        "    data_file = csv.reader(file)\n",
        "    for row in data_file:\n",
        "        print(row)"
      ],
      "metadata": {
        "id": "DdjtwFzwmzXe"
      },
      "execution_count": null,
      "outputs": []
    },
    {
      "cell_type": "markdown",
      "source": [
        "3. Write a Python program to display first 5 rows from COVID-19 dataset. Also print the dataset information and check the missing values.\n",
        "Dataset link:- \n",
        "https://raw.githubusercontent.com/CSSEGISandData/COVID-19/master/csse_covid_19_data/csse_covid_19_daily_reports/03-17-2020.csv"
      ],
      "metadata": {
        "id": "ilOxO2MCmBnv"
      }
    },
    {
      "cell_type": "code",
      "source": [
        "import pandas as pd\n",
        "covid_19_data= pd.read_csv('https://raw.githubusercontent.com/CSSEGISandData/COVID-19/master/csse_covid_19_data/csse_covid_19_daily_reports/03-17-2020.csv')\n",
        "print(covid_19_data)\n",
        "print(\"\\nDataset information:\")\n",
        "print(covid_19_data.info())\n",
        "print(\"\\nMissing data information:\")\n",
        "print(covid_19_data.isna().sum())"
      ],
      "metadata": {
        "colab": {
          "base_uri": "https://localhost:8080/"
        },
        "id": "OmzCQsltmB1h",
        "outputId": "debb78ee-c6a2-477b-83d8-817871d163bd"
      },
      "execution_count": 5,
      "outputs": [
        {
          "output_type": "stream",
          "name": "stdout",
          "text": [
            "        Province/State Country/Region  ... Latitude  Longitude\n",
            "0                Hubei          China  ...  30.9756   112.2707\n",
            "1                  NaN          Italy  ...  41.8719    12.5674\n",
            "2                  NaN           Iran  ...  32.4279    53.6880\n",
            "3                  NaN          Spain  ...  40.4637    -3.7492\n",
            "4                  NaN        Germany  ...  51.1657    10.4515\n",
            "..                 ...            ...  ...      ...        ...\n",
            "293  W.P. Kuala Lumpur       Malaysia  ...   3.1390   101.6869\n",
            "294        W.P. Labuan       Malaysia  ...   5.2831   115.2308\n",
            "295     W.P. Putrajaya       Malaysia  ...   2.9264   101.6964\n",
            "296            Unknown       Malaysia  ...      NaN        NaN\n",
            "297                NaN          Tonga  ... -21.1790  -175.1982\n",
            "\n",
            "[298 rows x 8 columns]\n",
            "\n",
            "Dataset information:\n",
            "<class 'pandas.core.frame.DataFrame'>\n",
            "RangeIndex: 298 entries, 0 to 297\n",
            "Data columns (total 8 columns):\n",
            " #   Column          Non-Null Count  Dtype  \n",
            "---  ------          --------------  -----  \n",
            " 0   Province/State  145 non-null    object \n",
            " 1   Country/Region  298 non-null    object \n",
            " 2   Last Update     298 non-null    object \n",
            " 3   Confirmed       298 non-null    int64  \n",
            " 4   Deaths          298 non-null    int64  \n",
            " 5   Recovered       298 non-null    int64  \n",
            " 6   Latitude        296 non-null    float64\n",
            " 7   Longitude       296 non-null    float64\n",
            "dtypes: float64(2), int64(3), object(3)\n",
            "memory usage: 18.8+ KB\n",
            "None\n",
            "\n",
            "Missing data information:\n",
            "Province/State    153\n",
            "Country/Region      0\n",
            "Last Update         0\n",
            "Confirmed           0\n",
            "Deaths              0\n",
            "Recovered           0\n",
            "Latitude            2\n",
            "Longitude           2\n",
            "dtype: int64\n"
          ]
        }
      ]
    },
    {
      "cell_type": "markdown",
      "source": [
        "4. Write a numpy program to create an element-wise comparison (greater, greater equal, less and less equal) of two given arrays.\n"
      ],
      "metadata": {
        "id": "7ZWcHNH-mCMO"
      }
    },
    {
      "cell_type": "code",
      "source": [
        "import numpy as np\n",
        "x = np.array([32, 62])\n",
        "y = np.array([17, 86])\n",
        "print(\"Original numbers:\")\n",
        "print(x)\n",
        "print(y)\n",
        "print(\"Comparison - greater\")\n",
        "print(np.greater(x, y))\n",
        "print(\"Comparison - greater_equal\")\n",
        "print(np.greater_equal(x, y))\n",
        "print(\"Comparison - less\")\n",
        "print(np.less(x, y))\n",
        "print(\"Comparison - less_equal\")\n",
        "print(np.less_equal(x, y))"
      ],
      "metadata": {
        "colab": {
          "base_uri": "https://localhost:8080/"
        },
        "id": "hOBF9t3ImCZw",
        "outputId": "41879ac9-b67f-4354-f1df-9cf5368d3575"
      },
      "execution_count": 2,
      "outputs": [
        {
          "output_type": "stream",
          "name": "stdout",
          "text": [
            "Original numbers:\n",
            "[32 62]\n",
            "[17 86]\n",
            "Comparison - greater\n",
            "[ True False]\n",
            "Comparison - greater_equal\n",
            "[ True False]\n",
            "Comparison - less\n",
            "[False  True]\n",
            "Comparison - less_equal\n",
            "[False  True]\n"
          ]
        }
      ]
    },
    {
      "cell_type": "markdown",
      "source": [
        "5. Write a Python program to draw a line with suitable label in the x axis, y axis and a title.\n"
      ],
      "metadata": {
        "id": "oJ1SyogMmC00"
      }
    },
    {
      "cell_type": "code",
      "source": [
        "import matplotlib.pyplot as plt\n",
        "X = range(1, 100)\n",
        "Y = [value * 2 for value in X]\n",
        "print(\"Values of X:\")\n",
        "print(*range(1,100))\n",
        "print(\"Values of Y (twice of X):\")\n",
        "print(Y)\n",
        "# Plot lines and/or markers to the Axes.\n",
        "plt.plot(X, Y)\n",
        "# Set the x axis label of the current axis.\n",
        "plt.xlabel('x - axis')\n",
        "# Set the y axis label of the current axis.\n",
        "plt.ylabel('y - axis')\n",
        "# Set a title\n",
        "plt.title('Number of Covid Cases.')\n",
        "# Display the figure.\n",
        "plt.show()"
      ],
      "metadata": {
        "colab": {
          "base_uri": "https://localhost:8080/",
          "height": 385
        },
        "id": "xFbezWsymDIw",
        "outputId": "99a3eb1d-2ab4-4d17-fc7d-efeec15f537b"
      },
      "execution_count": 1,
      "outputs": [
        {
          "output_type": "stream",
          "name": "stdout",
          "text": [
            "Values of X:\n",
            "1 2 3 4 5 6 7 8 9 10 11 12 13 14 15 16 17 18 19 20 21 22 23 24 25 26 27 28 29 30 31 32 33 34 35 36 37 38 39 40 41 42 43 44 45 46 47 48 49 50 51 52 53 54 55 56 57 58 59 60 61 62 63 64 65 66 67 68 69 70 71 72 73 74 75 76 77 78 79 80 81 82 83 84 85 86 87 88 89 90 91 92 93 94 95 96 97 98 99\n",
            "Values of Y (twice of X):\n",
            "[2, 4, 6, 8, 10, 12, 14, 16, 18, 20, 22, 24, 26, 28, 30, 32, 34, 36, 38, 40, 42, 44, 46, 48, 50, 52, 54, 56, 58, 60, 62, 64, 66, 68, 70, 72, 74, 76, 78, 80, 82, 84, 86, 88, 90, 92, 94, 96, 98, 100, 102, 104, 106, 108, 110, 112, 114, 116, 118, 120, 122, 124, 126, 128, 130, 132, 134, 136, 138, 140, 142, 144, 146, 148, 150, 152, 154, 156, 158, 160, 162, 164, 166, 168, 170, 172, 174, 176, 178, 180, 182, 184, 186, 188, 190, 192, 194, 196, 198]\n"
          ]
        },
        {
          "output_type": "display_data",
          "data": {
            "image/png": "[encoded data removed]",
            "text/plain": [
              "<Figure size 432x288 with 1 Axes>"
            ]
          },
          "metadata": {
            "needs_background": "light"
          }
        }
      ]
    }
  ]
}