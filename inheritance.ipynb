{
 "cells": [
  {
   "cell_type": "code",
   "execution_count": null,
   "id": "230082dd",
   "metadata": {},
   "outputs": [],
   "source": [
    "class Vehicle:\n",
    "    def Engine(self):\n",
    "        print(\"This is a engine of a vehicle\")\n",
    "    def Np(self):\n",
    "        print(\"This is the numberplate of the vehicle\")\n",
    "\n",
    "class Car(Vehicle):\n",
    "    def intro(self):\n",
    "        print(\"This is a car\")\n",
    "\n",
    "obj1=Car()\n",
    "obj1.Engine()#inherits engine method from parent class vehicle\n",
    "obj1.Np()#inherits np method from parent class vehicle\n",
    "obj1.intro()#its own property\n",
    "\n"
   ]
  }
 ],
 "metadata": {
  "kernelspec": {
   "display_name": "Python 3 (ipykernel)",
   "language": "python",
   "name": "python3"
  },
  "language_info": {
   "codemirror_mode": {
    "name": "ipython",
    "version": 3
   },
   "file_extension": ".py",
   "mimetype": "text/x-python",
   "name": "python",
   "nbconvert_exporter": "python",
   "pygments_lexer": "ipython3",
   "version": "3.9.7"
  }
 },
 "nbformat": 4,
 "nbformat_minor": 5
}
